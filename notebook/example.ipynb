{
 "cells": [
  {
   "cell_type": "code",
   "execution_count": 2,
   "metadata": {},
   "outputs": [
    {
     "name": "stderr",
     "output_type": "stream",
     "text": [
      "┌ Info: Precompiling GCTGMT [9a662218-b2a5-48bf-9802-3ede4e75343d]\n",
      "└ @ Base loading.jl:1278\n"
     ]
    }
   ],
   "source": [
    "using GCTGMT"
   ]
  },
  {
   "cell_type": "code",
   "execution_count": 3,
   "metadata": {},
   "outputs": [
    {
     "data": {
      "text/html": [
       "<table class=\"data-frame\"><thead><tr><th></th><th>Axis 0 Name</th><th>MD_165</th><th>MD_16</th><th>MD_185</th><th>MD_124</th><th>MD_80</th><th>MD_38</th><th>MD_29</th><th>MD_203</th></tr><tr><th></th><th>String</th><th>Float64</th><th>Float64</th><th>Float64</th><th>Float64</th><th>Float64</th><th>Float64</th><th>Float64</th><th>Float64</th></tr></thead><tbody><p>13,321 rows × 190 columns (omitted printing of 181 columns)</p><tr><th>1</th><td>IFT88</td><td>433.691</td><td>736.273</td><td>355.443</td><td>415.843</td><td>474.645</td><td>1076.57</td><td>781.196</td><td>1374.18</td></tr><tr><th>2</th><td>CARD4</td><td>47.8452</td><td>51.1339</td><td>38.4427</td><td>40.072</td><td>36.6611</td><td>53.3885</td><td>53.81</td><td>45.2332</td></tr><tr><th>3</th><td>EPN1</td><td>37.4084</td><td>35.9301</td><td>41.45</td><td>31.1808</td><td>27.7906</td><td>32.3344</td><td>36.908</td><td>34.5874</td></tr><tr><th>4</th><td>PODXL2</td><td>125.61</td><td>129.61</td><td>116.568</td><td>111.144</td><td>155.917</td><td>68.6967</td><td>94.6234</td><td>78.5659</td></tr><tr><th>5</th><td>RTN3</td><td>2698.88</td><td>4690.24</td><td>5621.5</td><td>1908.89</td><td>4229.2</td><td>2893.27</td><td>2032.75</td><td>2678.93</td></tr><tr><th>6</th><td>RBM17</td><td>39.7047</td><td>41.39</td><td>44.8571</td><td>51.925</td><td>42.7684</td><td>35.8979</td><td>46.8478</td><td>52.7391</td></tr><tr><th>7</th><td>CORO1A</td><td>39.6225</td><td>39.5797</td><td>64.7599</td><td>75.8286</td><td>54.1032</td><td>50.9655</td><td>49.5526</td><td>35.3608</td></tr><tr><th>8</th><td>SYCP2</td><td>34.6074</td><td>26.4856</td><td>29.1917</td><td>25.4171</td><td>47.7783</td><td>24.6344</td><td>22.9727</td><td>26.2505</td></tr><tr><th>9</th><td>TGFBR1</td><td>40.6001</td><td>33.153</td><td>68.5988</td><td>33.9166</td><td>121.286</td><td>35.7654</td><td>40.2623</td><td>26.8738</td></tr><tr><th>10</th><td>IRF7</td><td>53.4044</td><td>75.2739</td><td>74.8518</td><td>72.5987</td><td>67.017</td><td>118.916</td><td>117.739</td><td>94.2789</td></tr><tr><th>11</th><td>ZNF189</td><td>419.223</td><td>811.716</td><td>742.406</td><td>489.272</td><td>385.74</td><td>694.607</td><td>467.607</td><td>676.014</td></tr><tr><th>12</th><td>VTI1B</td><td>757.868</td><td>903.719</td><td>1160.35</td><td>509.637</td><td>968.016</td><td>758.622</td><td>422.586</td><td>562.935</td></tr><tr><th>13</th><td>ZCCHC2</td><td>93.0139</td><td>168.469</td><td>98.6605</td><td>67.0496</td><td>243.521</td><td>138.932</td><td>50.3293</td><td>71.0075</td></tr><tr><th>14</th><td>DDX18</td><td>2570.55</td><td>1837.29</td><td>2339.52</td><td>1979.38</td><td>1127.45</td><td>1723.48</td><td>2051.51</td><td>1643.8</td></tr><tr><th>15</th><td>HSU79275</td><td>27.3539</td><td>27.8151</td><td>25.6104</td><td>31.7679</td><td>24.6331</td><td>30.4652</td><td>27.4004</td><td>27.8048</td></tr><tr><th>16</th><td>PRPSAP2</td><td>1077.67</td><td>930.717</td><td>1233.62</td><td>1764.49</td><td>1640.55</td><td>820.868</td><td>594.203</td><td>1192.66</td></tr><tr><th>17</th><td>EIF2AK2</td><td>202.007</td><td>130.489</td><td>152.654</td><td>151.67</td><td>171.111</td><td>137.093</td><td>175.759</td><td>145.005</td></tr><tr><th>18</th><td>IL25</td><td>24.871</td><td>29.2297</td><td>29.7166</td><td>27.9016</td><td>24.1213</td><td>28.2791</td><td>29.6898</td><td>23.9256</td></tr><tr><th>19</th><td>CLDN10</td><td>29.9202</td><td>29.3797</td><td>34.8101</td><td>33.5388</td><td>29.3061</td><td>29.101</td><td>28.7865</td><td>30.4997</td></tr><tr><th>20</th><td>HBG1 /// HBG2</td><td>66.8523</td><td>95.2605</td><td>58.4022</td><td>74.7485</td><td>40.78</td><td>54.5722</td><td>120.823</td><td>187.908</td></tr><tr><th>21</th><td>RNGTT</td><td>412.767</td><td>987.678</td><td>521.617</td><td>364.341</td><td>800.38</td><td>551.604</td><td>482.07</td><td>456.332</td></tr><tr><th>22</th><td>SEC61A2</td><td>64.9372</td><td>58.8464</td><td>92.9768</td><td>84.7796</td><td>135.389</td><td>110.576</td><td>73.2142</td><td>64.0301</td></tr><tr><th>23</th><td>LIN28</td><td>27.7859</td><td>31.4594</td><td>21.1201</td><td>28.502</td><td>24.4715</td><td>30.4559</td><td>29.3637</td><td>25.3213</td></tr><tr><th>24</th><td>ELA2</td><td>25.5951</td><td>27.0906</td><td>25.6756</td><td>32.9605</td><td>23.4649</td><td>25.7032</td><td>27.6342</td><td>29.6718</td></tr><tr><th>25</th><td>PTTG2</td><td>25.9293</td><td>24.9245</td><td>28.6631</td><td>27.9915</td><td>27.8676</td><td>25.6187</td><td>26.1401</td><td>25.4178</td></tr><tr><th>26</th><td>NXF1</td><td>495.112</td><td>649.434</td><td>617.724</td><td>445.201</td><td>605.683</td><td>778.713</td><td>1206.87</td><td>712.06</td></tr><tr><th>27</th><td>KIF15</td><td>760.546</td><td>563.391</td><td>320.796</td><td>92.2865</td><td>529.858</td><td>679.297</td><td>593.009</td><td>132.243</td></tr><tr><th>28</th><td>GARNL3</td><td>32.3746</td><td>22.5747</td><td>22.064</td><td>27.7728</td><td>22.401</td><td>25.6073</td><td>27.1878</td><td>24.0023</td></tr><tr><th>29</th><td>ALDH1L1</td><td>40.2974</td><td>51.5166</td><td>63.7195</td><td>56.1828</td><td>40.6683</td><td>41.7639</td><td>74.3611</td><td>42.9147</td></tr><tr><th>30</th><td>AHSA1</td><td>996.439</td><td>974.636</td><td>1120.82</td><td>793.17</td><td>1037.77</td><td>623.501</td><td>688.31</td><td>674.042</td></tr><tr><th>&vellip;</th><td>&vellip;</td><td>&vellip;</td><td>&vellip;</td><td>&vellip;</td><td>&vellip;</td><td>&vellip;</td><td>&vellip;</td><td>&vellip;</td><td>&vellip;</td></tr></tbody></table>"
      ],
      "text/latex": [
       "\\begin{tabular}{r|cccccccccc}\n",
       "\t& Axis 0 Name & MD\\_165 & MD\\_16 & MD\\_185 & MD\\_124 & MD\\_80 & MD\\_38 & MD\\_29 & MD\\_203 & \\\\\n",
       "\t\\hline\n",
       "\t& String & Float64 & Float64 & Float64 & Float64 & Float64 & Float64 & Float64 & Float64 & \\\\\n",
       "\t\\hline\n",
       "\t1 & IFT88 & 433.691 & 736.273 & 355.443 & 415.843 & 474.645 & 1076.57 & 781.196 & 1374.18 & $\\dots$ \\\\\n",
       "\t2 & CARD4 & 47.8452 & 51.1339 & 38.4427 & 40.072 & 36.6611 & 53.3885 & 53.81 & 45.2332 & $\\dots$ \\\\\n",
       "\t3 & EPN1 & 37.4084 & 35.9301 & 41.45 & 31.1808 & 27.7906 & 32.3344 & 36.908 & 34.5874 & $\\dots$ \\\\\n",
       "\t4 & PODXL2 & 125.61 & 129.61 & 116.568 & 111.144 & 155.917 & 68.6967 & 94.6234 & 78.5659 & $\\dots$ \\\\\n",
       "\t5 & RTN3 & 2698.88 & 4690.24 & 5621.5 & 1908.89 & 4229.2 & 2893.27 & 2032.75 & 2678.93 & $\\dots$ \\\\\n",
       "\t6 & RBM17 & 39.7047 & 41.39 & 44.8571 & 51.925 & 42.7684 & 35.8979 & 46.8478 & 52.7391 & $\\dots$ \\\\\n",
       "\t7 & CORO1A & 39.6225 & 39.5797 & 64.7599 & 75.8286 & 54.1032 & 50.9655 & 49.5526 & 35.3608 & $\\dots$ \\\\\n",
       "\t8 & SYCP2 & 34.6074 & 26.4856 & 29.1917 & 25.4171 & 47.7783 & 24.6344 & 22.9727 & 26.2505 & $\\dots$ \\\\\n",
       "\t9 & TGFBR1 & 40.6001 & 33.153 & 68.5988 & 33.9166 & 121.286 & 35.7654 & 40.2623 & 26.8738 & $\\dots$ \\\\\n",
       "\t10 & IRF7 & 53.4044 & 75.2739 & 74.8518 & 72.5987 & 67.017 & 118.916 & 117.739 & 94.2789 & $\\dots$ \\\\\n",
       "\t11 & ZNF189 & 419.223 & 811.716 & 742.406 & 489.272 & 385.74 & 694.607 & 467.607 & 676.014 & $\\dots$ \\\\\n",
       "\t12 & VTI1B & 757.868 & 903.719 & 1160.35 & 509.637 & 968.016 & 758.622 & 422.586 & 562.935 & $\\dots$ \\\\\n",
       "\t13 & ZCCHC2 & 93.0139 & 168.469 & 98.6605 & 67.0496 & 243.521 & 138.932 & 50.3293 & 71.0075 & $\\dots$ \\\\\n",
       "\t14 & DDX18 & 2570.55 & 1837.29 & 2339.52 & 1979.38 & 1127.45 & 1723.48 & 2051.51 & 1643.8 & $\\dots$ \\\\\n",
       "\t15 & HSU79275 & 27.3539 & 27.8151 & 25.6104 & 31.7679 & 24.6331 & 30.4652 & 27.4004 & 27.8048 & $\\dots$ \\\\\n",
       "\t16 & PRPSAP2 & 1077.67 & 930.717 & 1233.62 & 1764.49 & 1640.55 & 820.868 & 594.203 & 1192.66 & $\\dots$ \\\\\n",
       "\t17 & EIF2AK2 & 202.007 & 130.489 & 152.654 & 151.67 & 171.111 & 137.093 & 175.759 & 145.005 & $\\dots$ \\\\\n",
       "\t18 & IL25 & 24.871 & 29.2297 & 29.7166 & 27.9016 & 24.1213 & 28.2791 & 29.6898 & 23.9256 & $\\dots$ \\\\\n",
       "\t19 & CLDN10 & 29.9202 & 29.3797 & 34.8101 & 33.5388 & 29.3061 & 29.101 & 28.7865 & 30.4997 & $\\dots$ \\\\\n",
       "\t20 & HBG1 /// HBG2 & 66.8523 & 95.2605 & 58.4022 & 74.7485 & 40.78 & 54.5722 & 120.823 & 187.908 & $\\dots$ \\\\\n",
       "\t21 & RNGTT & 412.767 & 987.678 & 521.617 & 364.341 & 800.38 & 551.604 & 482.07 & 456.332 & $\\dots$ \\\\\n",
       "\t22 & SEC61A2 & 64.9372 & 58.8464 & 92.9768 & 84.7796 & 135.389 & 110.576 & 73.2142 & 64.0301 & $\\dots$ \\\\\n",
       "\t23 & LIN28 & 27.7859 & 31.4594 & 21.1201 & 28.502 & 24.4715 & 30.4559 & 29.3637 & 25.3213 & $\\dots$ \\\\\n",
       "\t24 & ELA2 & 25.5951 & 27.0906 & 25.6756 & 32.9605 & 23.4649 & 25.7032 & 27.6342 & 29.6718 & $\\dots$ \\\\\n",
       "\t25 & PTTG2 & 25.9293 & 24.9245 & 28.6631 & 27.9915 & 27.8676 & 25.6187 & 26.1401 & 25.4178 & $\\dots$ \\\\\n",
       "\t26 & NXF1 & 495.112 & 649.434 & 617.724 & 445.201 & 605.683 & 778.713 & 1206.87 & 712.06 & $\\dots$ \\\\\n",
       "\t27 & KIF15 & 760.546 & 563.391 & 320.796 & 92.2865 & 529.858 & 679.297 & 593.009 & 132.243 & $\\dots$ \\\\\n",
       "\t28 & GARNL3 & 32.3746 & 22.5747 & 22.064 & 27.7728 & 22.401 & 25.6073 & 27.1878 & 24.0023 & $\\dots$ \\\\\n",
       "\t29 & ALDH1L1 & 40.2974 & 51.5166 & 63.7195 & 56.1828 & 40.6683 & 41.7639 & 74.3611 & 42.9147 & $\\dots$ \\\\\n",
       "\t30 & AHSA1 & 996.439 & 974.636 & 1120.82 & 793.17 & 1037.77 & 623.501 & 688.31 & 674.042 & $\\dots$ \\\\\n",
       "\t$\\dots$ & $\\dots$ & $\\dots$ & $\\dots$ & $\\dots$ & $\\dots$ & $\\dots$ & $\\dots$ & $\\dots$ & $\\dots$ &  \\\\\n",
       "\\end{tabular}\n"
      ],
      "text/plain": [
       "\u001b[1m13321×190 DataFrame\u001b[0m\n",
       "\u001b[1m   Row \u001b[0m│\u001b[1m Axis 0 Name \u001b[0m\u001b[1m MD_165    \u001b[0m\u001b[1m MD_16     \u001b[0m\u001b[1m MD_185    \u001b[0m\u001b[1m MD_124    \u001b[0m\u001b[1m MD_80     \u001b[0m\u001b[1m M\u001b[0m ⋯\n",
       "\u001b[1m       \u001b[0m│\u001b[90m String      \u001b[0m\u001b[90m Float64   \u001b[0m\u001b[90m Float64   \u001b[0m\u001b[90m Float64   \u001b[0m\u001b[90m Float64   \u001b[0m\u001b[90m Float64   \u001b[0m\u001b[90m F\u001b[0m ⋯\n",
       "───────┼────────────────────────────────────────────────────────────────────────\n",
       "     1 │ IFT88         433.691    736.273    355.443    415.843    474.645   1 ⋯\n",
       "     2 │ CARD4          47.8452    51.1339    38.4427    40.072     36.6611\n",
       "     3 │ EPN1           37.4084    35.9301    41.45      31.1808    27.7906\n",
       "     4 │ PODXL2        125.61     129.61     116.568    111.144    155.917\n",
       "     5 │ RTN3         2698.88    4690.24    5621.5     1908.89    4229.2     2 ⋯\n",
       "     6 │ RBM17          39.7047    41.39      44.8571    51.925     42.7684\n",
       "     7 │ CORO1A         39.6225    39.5797    64.7599    75.8286    54.1032\n",
       "     8 │ SYCP2          34.6074    26.4856    29.1917    25.4171    47.7783\n",
       "     9 │ TGFBR1         40.6001    33.153     68.5988    33.9166   121.286     ⋯\n",
       "    10 │ IRF7           53.4044    75.2739    74.8518    72.5987    67.017\n",
       "    11 │ ZNF189        419.223    811.716    742.406    489.272    385.74\n",
       "   ⋮   │      ⋮           ⋮          ⋮          ⋮          ⋮          ⋮        ⋱\n",
       " 13312 │ SCGN           48.4075    36.4401   104.647     47.6935    29.9907\n",
       " 13313 │ PSCDBP         27.057     33.5849    35.5106    36.4561    33.2837    ⋯\n",
       " 13314 │ CRYBA1         23.2392    24.0962    24.5131    31.5908    26.7964\n",
       " 13315 │ AKR1C2        138.159     67.331     67.0358   214.371     58.7051\n",
       " 13316 │ CTNND2        569.714    553.1      433.39     261.46     412.632\n",
       " 13317 │ FLJ23172       34.1322    38.8833    24.578     36.9792    26.348     ⋯\n",
       " 13318 │ EPB41L4A       28.1387    38.5762    33.5642    34.0786    25.3508\n",
       " 13319 │ SEZ6L        1070.97    2838.55    1196.81    1143.31    1552.15    1\n",
       " 13320 │ EIF3S2       1205.29    1210.06    1849.84    1570.79    1157.25    1\n",
       " 13321 │ LDLR          194.384    158.164    133.376     54.5259   167.823     ⋯\n",
       "\u001b[31m                                              184 columns and 13300 rows omitted\u001b[0m"
      ]
     },
     "execution_count": 3,
     "metadata": {},
     "output_type": "execute_result"
    }
   ],
   "source": [
    "read_gct(\"a.gct\")"
   ]
  },
  {
   "cell_type": "code",
   "execution_count": 4,
   "metadata": {},
   "outputs": [
    {
     "data": {
      "text/html": [
       "<table class=\"data-frame\"><thead><tr><th></th><th>Heso</th><th>MD_165</th><th>MD_16</th><th>MD_185</th><th>MD_124</th><th>MD_80</th><th>MD_38</th><th>MD_29</th><th>MD_203</th></tr><tr><th></th><th>String</th><th>Float64</th><th>Float64</th><th>Float64</th><th>Float64</th><th>Float64</th><th>Float64</th><th>Float64</th><th>Float64</th></tr></thead><tbody><p>13,321 rows × 190 columns (omitted printing of 181 columns)</p><tr><th>1</th><td>IFT88</td><td>433.691</td><td>736.273</td><td>355.443</td><td>415.843</td><td>474.645</td><td>1076.57</td><td>781.196</td><td>1374.18</td></tr><tr><th>2</th><td>CARD4</td><td>47.8452</td><td>51.1339</td><td>38.4427</td><td>40.072</td><td>36.6611</td><td>53.3885</td><td>53.81</td><td>45.2332</td></tr><tr><th>3</th><td>EPN1</td><td>37.4084</td><td>35.9301</td><td>41.45</td><td>31.1808</td><td>27.7906</td><td>32.3344</td><td>36.908</td><td>34.5874</td></tr><tr><th>4</th><td>PODXL2</td><td>125.61</td><td>129.61</td><td>116.568</td><td>111.144</td><td>155.917</td><td>68.6967</td><td>94.6234</td><td>78.5659</td></tr><tr><th>5</th><td>RTN3</td><td>2698.88</td><td>4690.24</td><td>5621.5</td><td>1908.89</td><td>4229.2</td><td>2893.27</td><td>2032.75</td><td>2678.93</td></tr><tr><th>6</th><td>RBM17</td><td>39.7047</td><td>41.39</td><td>44.8571</td><td>51.925</td><td>42.7684</td><td>35.8979</td><td>46.8478</td><td>52.7391</td></tr><tr><th>7</th><td>CORO1A</td><td>39.6225</td><td>39.5797</td><td>64.7599</td><td>75.8286</td><td>54.1032</td><td>50.9655</td><td>49.5526</td><td>35.3608</td></tr><tr><th>8</th><td>SYCP2</td><td>34.6074</td><td>26.4856</td><td>29.1917</td><td>25.4171</td><td>47.7783</td><td>24.6344</td><td>22.9727</td><td>26.2505</td></tr><tr><th>9</th><td>TGFBR1</td><td>40.6001</td><td>33.153</td><td>68.5988</td><td>33.9166</td><td>121.286</td><td>35.7654</td><td>40.2623</td><td>26.8738</td></tr><tr><th>10</th><td>IRF7</td><td>53.4044</td><td>75.2739</td><td>74.8518</td><td>72.5987</td><td>67.017</td><td>118.916</td><td>117.739</td><td>94.2789</td></tr><tr><th>11</th><td>ZNF189</td><td>419.223</td><td>811.716</td><td>742.406</td><td>489.272</td><td>385.74</td><td>694.607</td><td>467.607</td><td>676.014</td></tr><tr><th>12</th><td>VTI1B</td><td>757.868</td><td>903.719</td><td>1160.35</td><td>509.637</td><td>968.016</td><td>758.622</td><td>422.586</td><td>562.935</td></tr><tr><th>13</th><td>ZCCHC2</td><td>93.0139</td><td>168.469</td><td>98.6605</td><td>67.0496</td><td>243.521</td><td>138.932</td><td>50.3293</td><td>71.0075</td></tr><tr><th>14</th><td>DDX18</td><td>2570.55</td><td>1837.29</td><td>2339.52</td><td>1979.38</td><td>1127.45</td><td>1723.48</td><td>2051.51</td><td>1643.8</td></tr><tr><th>15</th><td>HSU79275</td><td>27.3539</td><td>27.8151</td><td>25.6104</td><td>31.7679</td><td>24.6331</td><td>30.4652</td><td>27.4004</td><td>27.8048</td></tr><tr><th>16</th><td>PRPSAP2</td><td>1077.67</td><td>930.717</td><td>1233.62</td><td>1764.49</td><td>1640.55</td><td>820.868</td><td>594.203</td><td>1192.66</td></tr><tr><th>17</th><td>EIF2AK2</td><td>202.007</td><td>130.489</td><td>152.654</td><td>151.67</td><td>171.111</td><td>137.093</td><td>175.759</td><td>145.005</td></tr><tr><th>18</th><td>IL25</td><td>24.871</td><td>29.2297</td><td>29.7166</td><td>27.9016</td><td>24.1213</td><td>28.2791</td><td>29.6898</td><td>23.9256</td></tr><tr><th>19</th><td>CLDN10</td><td>29.9202</td><td>29.3797</td><td>34.8101</td><td>33.5388</td><td>29.3061</td><td>29.101</td><td>28.7865</td><td>30.4997</td></tr><tr><th>20</th><td>HBG1 /// HBG2</td><td>66.8523</td><td>95.2605</td><td>58.4022</td><td>74.7485</td><td>40.78</td><td>54.5722</td><td>120.823</td><td>187.908</td></tr><tr><th>21</th><td>RNGTT</td><td>412.767</td><td>987.678</td><td>521.617</td><td>364.341</td><td>800.38</td><td>551.604</td><td>482.07</td><td>456.332</td></tr><tr><th>22</th><td>SEC61A2</td><td>64.9372</td><td>58.8464</td><td>92.9768</td><td>84.7796</td><td>135.389</td><td>110.576</td><td>73.2142</td><td>64.0301</td></tr><tr><th>23</th><td>LIN28</td><td>27.7859</td><td>31.4594</td><td>21.1201</td><td>28.502</td><td>24.4715</td><td>30.4559</td><td>29.3637</td><td>25.3213</td></tr><tr><th>24</th><td>ELA2</td><td>25.5951</td><td>27.0906</td><td>25.6756</td><td>32.9605</td><td>23.4649</td><td>25.7032</td><td>27.6342</td><td>29.6718</td></tr><tr><th>25</th><td>PTTG2</td><td>25.9293</td><td>24.9245</td><td>28.6631</td><td>27.9915</td><td>27.8676</td><td>25.6187</td><td>26.1401</td><td>25.4178</td></tr><tr><th>26</th><td>NXF1</td><td>495.112</td><td>649.434</td><td>617.724</td><td>445.201</td><td>605.683</td><td>778.713</td><td>1206.87</td><td>712.06</td></tr><tr><th>27</th><td>KIF15</td><td>760.546</td><td>563.391</td><td>320.796</td><td>92.2865</td><td>529.858</td><td>679.297</td><td>593.009</td><td>132.243</td></tr><tr><th>28</th><td>GARNL3</td><td>32.3746</td><td>22.5747</td><td>22.064</td><td>27.7728</td><td>22.401</td><td>25.6073</td><td>27.1878</td><td>24.0023</td></tr><tr><th>29</th><td>ALDH1L1</td><td>40.2974</td><td>51.5166</td><td>63.7195</td><td>56.1828</td><td>40.6683</td><td>41.7639</td><td>74.3611</td><td>42.9147</td></tr><tr><th>30</th><td>AHSA1</td><td>996.439</td><td>974.636</td><td>1120.82</td><td>793.17</td><td>1037.77</td><td>623.501</td><td>688.31</td><td>674.042</td></tr><tr><th>&vellip;</th><td>&vellip;</td><td>&vellip;</td><td>&vellip;</td><td>&vellip;</td><td>&vellip;</td><td>&vellip;</td><td>&vellip;</td><td>&vellip;</td><td>&vellip;</td></tr></tbody></table>"
      ],
      "text/latex": [
       "\\begin{tabular}{r|cccccccccc}\n",
       "\t& Heso & MD\\_165 & MD\\_16 & MD\\_185 & MD\\_124 & MD\\_80 & MD\\_38 & MD\\_29 & MD\\_203 & \\\\\n",
       "\t\\hline\n",
       "\t& String & Float64 & Float64 & Float64 & Float64 & Float64 & Float64 & Float64 & Float64 & \\\\\n",
       "\t\\hline\n",
       "\t1 & IFT88 & 433.691 & 736.273 & 355.443 & 415.843 & 474.645 & 1076.57 & 781.196 & 1374.18 & $\\dots$ \\\\\n",
       "\t2 & CARD4 & 47.8452 & 51.1339 & 38.4427 & 40.072 & 36.6611 & 53.3885 & 53.81 & 45.2332 & $\\dots$ \\\\\n",
       "\t3 & EPN1 & 37.4084 & 35.9301 & 41.45 & 31.1808 & 27.7906 & 32.3344 & 36.908 & 34.5874 & $\\dots$ \\\\\n",
       "\t4 & PODXL2 & 125.61 & 129.61 & 116.568 & 111.144 & 155.917 & 68.6967 & 94.6234 & 78.5659 & $\\dots$ \\\\\n",
       "\t5 & RTN3 & 2698.88 & 4690.24 & 5621.5 & 1908.89 & 4229.2 & 2893.27 & 2032.75 & 2678.93 & $\\dots$ \\\\\n",
       "\t6 & RBM17 & 39.7047 & 41.39 & 44.8571 & 51.925 & 42.7684 & 35.8979 & 46.8478 & 52.7391 & $\\dots$ \\\\\n",
       "\t7 & CORO1A & 39.6225 & 39.5797 & 64.7599 & 75.8286 & 54.1032 & 50.9655 & 49.5526 & 35.3608 & $\\dots$ \\\\\n",
       "\t8 & SYCP2 & 34.6074 & 26.4856 & 29.1917 & 25.4171 & 47.7783 & 24.6344 & 22.9727 & 26.2505 & $\\dots$ \\\\\n",
       "\t9 & TGFBR1 & 40.6001 & 33.153 & 68.5988 & 33.9166 & 121.286 & 35.7654 & 40.2623 & 26.8738 & $\\dots$ \\\\\n",
       "\t10 & IRF7 & 53.4044 & 75.2739 & 74.8518 & 72.5987 & 67.017 & 118.916 & 117.739 & 94.2789 & $\\dots$ \\\\\n",
       "\t11 & ZNF189 & 419.223 & 811.716 & 742.406 & 489.272 & 385.74 & 694.607 & 467.607 & 676.014 & $\\dots$ \\\\\n",
       "\t12 & VTI1B & 757.868 & 903.719 & 1160.35 & 509.637 & 968.016 & 758.622 & 422.586 & 562.935 & $\\dots$ \\\\\n",
       "\t13 & ZCCHC2 & 93.0139 & 168.469 & 98.6605 & 67.0496 & 243.521 & 138.932 & 50.3293 & 71.0075 & $\\dots$ \\\\\n",
       "\t14 & DDX18 & 2570.55 & 1837.29 & 2339.52 & 1979.38 & 1127.45 & 1723.48 & 2051.51 & 1643.8 & $\\dots$ \\\\\n",
       "\t15 & HSU79275 & 27.3539 & 27.8151 & 25.6104 & 31.7679 & 24.6331 & 30.4652 & 27.4004 & 27.8048 & $\\dots$ \\\\\n",
       "\t16 & PRPSAP2 & 1077.67 & 930.717 & 1233.62 & 1764.49 & 1640.55 & 820.868 & 594.203 & 1192.66 & $\\dots$ \\\\\n",
       "\t17 & EIF2AK2 & 202.007 & 130.489 & 152.654 & 151.67 & 171.111 & 137.093 & 175.759 & 145.005 & $\\dots$ \\\\\n",
       "\t18 & IL25 & 24.871 & 29.2297 & 29.7166 & 27.9016 & 24.1213 & 28.2791 & 29.6898 & 23.9256 & $\\dots$ \\\\\n",
       "\t19 & CLDN10 & 29.9202 & 29.3797 & 34.8101 & 33.5388 & 29.3061 & 29.101 & 28.7865 & 30.4997 & $\\dots$ \\\\\n",
       "\t20 & HBG1 /// HBG2 & 66.8523 & 95.2605 & 58.4022 & 74.7485 & 40.78 & 54.5722 & 120.823 & 187.908 & $\\dots$ \\\\\n",
       "\t21 & RNGTT & 412.767 & 987.678 & 521.617 & 364.341 & 800.38 & 551.604 & 482.07 & 456.332 & $\\dots$ \\\\\n",
       "\t22 & SEC61A2 & 64.9372 & 58.8464 & 92.9768 & 84.7796 & 135.389 & 110.576 & 73.2142 & 64.0301 & $\\dots$ \\\\\n",
       "\t23 & LIN28 & 27.7859 & 31.4594 & 21.1201 & 28.502 & 24.4715 & 30.4559 & 29.3637 & 25.3213 & $\\dots$ \\\\\n",
       "\t24 & ELA2 & 25.5951 & 27.0906 & 25.6756 & 32.9605 & 23.4649 & 25.7032 & 27.6342 & 29.6718 & $\\dots$ \\\\\n",
       "\t25 & PTTG2 & 25.9293 & 24.9245 & 28.6631 & 27.9915 & 27.8676 & 25.6187 & 26.1401 & 25.4178 & $\\dots$ \\\\\n",
       "\t26 & NXF1 & 495.112 & 649.434 & 617.724 & 445.201 & 605.683 & 778.713 & 1206.87 & 712.06 & $\\dots$ \\\\\n",
       "\t27 & KIF15 & 760.546 & 563.391 & 320.796 & 92.2865 & 529.858 & 679.297 & 593.009 & 132.243 & $\\dots$ \\\\\n",
       "\t28 & GARNL3 & 32.3746 & 22.5747 & 22.064 & 27.7728 & 22.401 & 25.6073 & 27.1878 & 24.0023 & $\\dots$ \\\\\n",
       "\t29 & ALDH1L1 & 40.2974 & 51.5166 & 63.7195 & 56.1828 & 40.6683 & 41.7639 & 74.3611 & 42.9147 & $\\dots$ \\\\\n",
       "\t30 & AHSA1 & 996.439 & 974.636 & 1120.82 & 793.17 & 1037.77 & 623.501 & 688.31 & 674.042 & $\\dots$ \\\\\n",
       "\t$\\dots$ & $\\dots$ & $\\dots$ & $\\dots$ & $\\dots$ & $\\dots$ & $\\dots$ & $\\dots$ & $\\dots$ & $\\dots$ &  \\\\\n",
       "\\end{tabular}\n"
      ],
      "text/plain": [
       "\u001b[1m13321×190 DataFrame\u001b[0m\n",
       "\u001b[1m   Row \u001b[0m│\u001b[1m Heso     \u001b[0m\u001b[1m MD_165    \u001b[0m\u001b[1m MD_16     \u001b[0m\u001b[1m MD_185    \u001b[0m\u001b[1m MD_124    \u001b[0m\u001b[1m MD_80     \u001b[0m\u001b[1m MD_3\u001b[0m ⋯\n",
       "\u001b[1m       \u001b[0m│\u001b[90m String   \u001b[0m\u001b[90m Float64   \u001b[0m\u001b[90m Float64   \u001b[0m\u001b[90m Float64   \u001b[0m\u001b[90m Float64   \u001b[0m\u001b[90m Float64   \u001b[0m\u001b[90m Floa\u001b[0m ⋯\n",
       "───────┼────────────────────────────────────────────────────────────────────────\n",
       "     1 │ IFT88      433.691    736.273    355.443    415.843    474.645   1076 ⋯\n",
       "     2 │ CARD4       47.8452    51.1339    38.4427    40.072     36.6611    53\n",
       "     3 │ EPN1        37.4084    35.9301    41.45      31.1808    27.7906    32\n",
       "     4 │ PODXL2     125.61     129.61     116.568    111.144    155.917     68\n",
       "     5 │ RTN3      2698.88    4690.24    5621.5     1908.89    4229.2     2893 ⋯\n",
       "     6 │ RBM17       39.7047    41.39      44.8571    51.925     42.7684    35\n",
       "     7 │ CORO1A      39.6225    39.5797    64.7599    75.8286    54.1032    50\n",
       "     8 │ SYCP2       34.6074    26.4856    29.1917    25.4171    47.7783    24\n",
       "     9 │ TGFBR1      40.6001    33.153     68.5988    33.9166   121.286     35 ⋯\n",
       "    10 │ IRF7        53.4044    75.2739    74.8518    72.5987    67.017    118\n",
       "    11 │ ZNF189     419.223    811.716    742.406    489.272    385.74     694\n",
       "   ⋮   │    ⋮          ⋮          ⋮          ⋮          ⋮          ⋮           ⋱\n",
       " 13312 │ SCGN        48.4075    36.4401   104.647     47.6935    29.9907    38\n",
       " 13313 │ PSCDBP      27.057     33.5849    35.5106    36.4561    33.2837    32 ⋯\n",
       " 13314 │ CRYBA1      23.2392    24.0962    24.5131    31.5908    26.7964    23\n",
       " 13315 │ AKR1C2     138.159     67.331     67.0358   214.371     58.7051   164\n",
       " 13316 │ CTNND2     569.714    553.1      433.39     261.46     412.632    152\n",
       " 13317 │ FLJ23172    34.1322    38.8833    24.578     36.9792    26.348     36 ⋯\n",
       " 13318 │ EPB41L4A    28.1387    38.5762    33.5642    34.0786    25.3508    26\n",
       " 13319 │ SEZ6L     1070.97    2838.55    1196.81    1143.31    1552.15    1354\n",
       " 13320 │ EIF3S2    1205.29    1210.06    1849.84    1570.79    1157.25    1049\n",
       " 13321 │ LDLR       194.384    158.164    133.376     54.5259   167.823    356 ⋯\n",
       "\u001b[31m                                              184 columns and 13300 rows omitted\u001b[0m"
      ]
     },
     "execution_count": 4,
     "metadata": {},
     "output_type": "execute_result"
    }
   ],
   "source": [
    "read_gct(\"a.gct\"; axis_0_name = \"Heso\")"
   ]
  },
  {
   "cell_type": "code",
   "execution_count": 5,
   "metadata": {},
   "outputs": [
    {
     "data": {
      "text/plain": [
       "Dict{String,Array{String,1}} with 50 entries:\n",
       "  \"HALLMARK_REACTIVE_OXIGE… => [\"GSR\", \"PRDX2\", \"TXNRD1\", \"SOD1\", \"GCLC\", \"CAT\"…\n",
       "  \"HALLMARK_ANGIOGENESIS\"   => [\"VCAN\", \"POSTN\", \"FSTL1\", \"LRPAP1\", \"STC1\", \"LP…\n",
       "  \"HALLMARK_MYOGENESIS\"     => [\"ACTA1\", \"TNNI2\", \"MYL1\", \"TNNC1\", \"TNNC2\", \"MY…\n",
       "  \"HALLMARK_PEROXISOME\"     => [\"ABCD3\", \"ACOT8\", \"ACOX1\", \"ACSL1\", \"ECH1\", \"EC…\n",
       "  \"HALLMARK_UV_RESPONSE_DN\" => [\"TJP1\", \"NFIB\", \"TGFBR3\", \"TFPI\", \"MMP16\", \"ABC…\n",
       "  \"HALLMARK_NOTCH_SIGNALIN… => [\"JAG1\", \"NOTCH3\", \"NOTCH2\", \"APH1A\", \"HES1\", \"C…\n",
       "  \"HALLMARK_ANDROGEN_RESPO… => [\"KLK3\", \"KLK2\", \"ACSL3\", \"PIAS1\", \"CAMKK2\", \"NK…\n",
       "  \"HALLMARK_ALLOGRAFT_REJE… => [\"PTPRC\", \"IL12B\", \"TGFB1\", \"IL12A\", \"CD3E\", \"CD…\n",
       "  \"HALLMARK_ESTROGEN_RESPO… => [\"TFF1\", \"SLC9A3R1\", \"TPD52L1\", \"PRSS23\", \"CA12\"…\n",
       "  \"HALLMARK_G2M_CHECKPOINT\" => [\"AURKA\", \"CCNA2\", \"TOP2A\", \"CCNB2\", \"CENPA\", \"B…\n",
       "  \"HALLMARK_MYC_TARGETS_V2\" => [\"SLC19A1\", \"MRTO4\", \"TMEM97\", \"RRP9\", \"PES1\", \"…\n",
       "  \"HALLMARK_APOPTOSIS\"      => [\"CASP3\", \"CASP9\", \"DFFA\", \"CASP7\", \"CFLAR\", \"BI…\n",
       "  \"HALLMARK_P53_PATHWAY\"    => [\"CDKN1A\", \"BTG2\", \"MDM2\", \"CCNG1\", \"FAS\", \"TOB1…\n",
       "  \"HALLMARK_UNFOLDED_PROTE… => [\"ATF4\", \"HERPUD1\", \"PARN\", \"EXOSC4\", \"HSP90B1\",…\n",
       "  \"HALLMARK_ADIPOGENESIS\"   => [\"FABP4\", \"ADIPOQ\", \"PPARG\", \"LIPE\", \"DGAT1\", \"L…\n",
       "  \"HALLMARK_DNA_REPAIR\"     => [\"POLR2H\", \"POLR2A\", \"POLR2G\", \"POLR2E\", \"POLR2J…\n",
       "  \"HALLMARK_EPITHELIAL_MES… => [\"COL3A1\", \"COL5A2\", \"COL5A1\", \"FBN1\", \"COL1A1\",…\n",
       "  \"HALLMARK_OXIDATIVE_PHOS… => [\"NDUFS3\", \"UQCRB\", \"NDUFS2\", \"SDHA\", \"UQCRC1\", …\n",
       "  \"HALLMARK_HEME_METABOLIS… => [\"ALAS2\", \"PPOX\", \"FECH\", \"HMBS\", \"GYPB\", \"ALAD\"…\n",
       "  \"HALLMARK_MITOTIC_SPINDL… => [\"ARHGEF2\", \"CLASP1\", \"KIF11\", \"KIF23\", \"ALS2\", …\n",
       "  \"HALLMARK_FATTY_ACID_MET… => [\"ACAA1\", \"ACAA2\", \"ACADL\", \"ACADM\", \"ACOT8\", \"A…\n",
       "  \"HALLMARK_COMPLEMENT\"     => [\"C2\", \"C1S\", \"CFB\", \"C1R\", \"SERPINE1\", \"MMP14\",…\n",
       "  \"HALLMARK_APICAL_SURFACE\" => [\"B4GALT1\", \"RHCG\", \"MAL\", \"LYPD3\", \"PKHD1\", \"AT…\n",
       "  \"HALLMARK_ESTROGEN_RESPO… => [\"GREB1\", \"CA12\", \"SLC9A3R1\", \"MYB\", \"ANXA9\", \"I…\n",
       "  \"HALLMARK_INTERFERON_GAM… => [\"STAT1\", \"ISG15\", \"IFIT1\", \"MX1\", \"IFIT3\", \"IFI…\n",
       "  ⋮                         => ⋮"
      ]
     },
     "execution_count": 5,
     "metadata": {},
     "output_type": "execute_result"
    }
   ],
   "source": [
    "read_gmt(\"a.gmt\")"
   ]
  },
  {
   "cell_type": "code",
   "execution_count": 6,
   "metadata": {},
   "outputs": [
    {
     "data": {
      "text/plain": [
       "Dict{String,Array{String,1}} with 5579 entries:\n",
       "  \"GRABARCZYK_BCL11B_TARGE… => [\"PLEKHA8\", \"PRKCQ-AS1\", \"PDCD6IP\", \"TNFSF10\", \"…\n",
       "  \"REACTOME_EXTRACELLULAR_… => [\"ITGAL\", \"ITGA3\", \"ITGA2B\", \"MMP25\", \"DCN\", \"CA…\n",
       "  \"GARCIA_TARGETS_OF_FLI1_… => [\"LMBR1L\", \"SYNGR1\", \"PBXIP1\", \"NCKAP5\", \"PLIN3\"…\n",
       "  \"SIMBULAN_PARP1_TARGETS_… => [\"CCNG1\", \"FGF7\", \"MFAP5\", \"PRRX2\", \"APP\", \"EEF2…\n",
       "  \"BIOCARTA_CPSF_PATHWAY\"   => [\"CSTF3\", \"CSTF2\", \"CSTF1\", \"PAPOLA\", \"CPSF4\", \"…\n",
       "  \"WEI_MYCN_TARGETS_WITH_E… => [\"DPYSL3\", \"XPO6\", \"LPCAT1\", \"MCM10\", \"C4orf46\",…\n",
       "  \"PID_RET_PATHWAY\"         => [\"PRKACA\", \"PXN\", \"GAB1\", \"GRB2\", \"DOK4\", \"CREB1…\n",
       "  \"MARIADASON_RESPONSE_TO_… => [\"KAT7\", \"PTGDS\", \"DDX21\", \"LARP1B\", \"NFKB2\", \"N…\n",
       "  \"BIOCARTA_VOBESITY_PATHW… => [\"ADIPOQ\", \"NR3C1\", \"PPARG\", \"LPL\", \"HSD11B1\", \"…\n",
       "  \"REACTOME_GPCR_LIGAND_BI… => [\"WNT16\", \"CALCR\", \"TAC1\", \"CX3CL1\", \"TBXA2R\", \"…\n",
       "  \"BIOCARTA_S1P_PATHWAY\"    => [\"MBTPS1\", \"LDLR\", \"HMGCS1\", \"SREBF2\", \"MBTPS2\",…\n",
       "  \"KEGG_CYTOSOLIC_DNA_SENS… => [\"CXCL10\", \"CHUK\", \"IFNA5\", \"IFNA4\", \"IFNA2\", \"P…\n",
       "  \"HOSHIDA_LIVER_CANCER_SU… => [\"MME\", \"AGXT\", \"TST\", \"SLC7A2\", \"DAO\", \"SLCO2A1…\n",
       "  \"LIAN_LIPA_TARGETS_3M\"    => [\"ACOD1\", \"MSR1\", \"FKBP5\", \"NEU1\", \"DNMT3A\", \"C1…\n",
       "  \"SENESE_HDAC3_TARGETS_UP\" => [\"AKR1C1\", \"IGKV1OR1-1\", \"CNTNAP3\", \"TIMP3\", \"HI…\n",
       "  \"BIOCARTA_TOB1_PATHWAY\"   => [\"IFNG\", \"CD3G\", \"CD3E\", \"IL4\", \"SMAD4\", \"TGFBR2…\n",
       "  \"RODRIGUES_THYROID_CARCI… => [\"B3GALNT1\", \"YPEL1\", \"TCF4\", \"RBPMS\", \"LATS1\", …\n",
       "  \"REACTOME_SUMOYLATION_OF… => [\"NR1H4\", \"NR1H3\", \"PIAS1\", \"HDAC4\", \"RORA\", \"PI…\n",
       "  \"REACTOME_RNA_POLYMERASE… => [\"POLR2J\", \"SNAPC1\", \"POU2F2\", \"POLR2B\", \"INTS13…\n",
       "  \"BIOCARTA_CTBP1_PATHWAY\"  => [\"SUMO1\", \"ZEB1\", \"CTBP1\", \"UBE2I\", \"CDH1\", \"SAE…\n",
       "  \"KIM_RESPONSE_TO_TSA_AND… => [\"LAMB3\", \"SFN\", \"ICAM2\", \"PLIN2\", \"H2BC4\", \"S10…\n",
       "  \"FRIDMAN_SENESCENCE_UP\"   => [\"HSPA2\", \"CDKN2A\", \"SERPINE1\", \"CDKN2B\", \"CYP1B…\n",
       "  \"CREIGHTON_ENDOCRINE_THE… => [\"PPP6R3\", \"DYNLRB2\", \"TMEM121\", \"CEP78\", \"NGEF\"…\n",
       "  \"PAL_PRMT5_TARGETS_DN\"    => [\"HLA-A\", \"TCF15\", \"SEL1L\", \"GZMA\", \"GATA4\", \"KR…\n",
       "  \"REACTOME_BH3_ONLY_PROTE… => [\"BAD\", \"BID\", \"BMF\", \"BBC3\", \"PMAIP1\", \"BCL2L11…\n",
       "  ⋮                         => ⋮"
      ]
     },
     "execution_count": 6,
     "metadata": {},
     "output_type": "execute_result"
    }
   ],
   "source": [
    "read_gmt([\"a.gmt\", \"b.gmt\"])"
   ]
  }
 ],
 "metadata": {
  "kernelspec": {
   "display_name": "Julia 1.5.3",
   "language": "julia",
   "name": "julia-1.5"
  },
  "language_info": {
   "file_extension": ".jl",
   "mimetype": "application/julia",
   "name": "julia",
   "version": "1.5.3"
  }
 },
 "nbformat": 4,
 "nbformat_minor": 4
}
